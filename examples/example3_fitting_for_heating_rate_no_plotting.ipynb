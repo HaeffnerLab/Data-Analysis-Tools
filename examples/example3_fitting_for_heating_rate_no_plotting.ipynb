{
 "cells": [
  {
   "cell_type": "code",
   "execution_count": 1,
   "id": "608807ab-8812-48a0-9ac7-a0474f03f5ed",
   "metadata": {},
   "outputs": [],
   "source": [
    "import numpy as np\n",
    "import matplotlib.pyplot as plt\n",
    "import labrad_data_tools as ldt\n",
    "import fitting_tools as fit"
   ]
  },
  {
   "cell_type": "markdown",
   "id": "8325e0ce-1dfa-457e-aadc-807f2581560c",
   "metadata": {},
   "source": [
    "# Define scans to use"
   ]
  },
  {
   "cell_type": "code",
   "execution_count": 2,
   "id": "1dee6744-2b65-44cb-93d4-8e36ff01cd46",
   "metadata": {},
   "outputs": [],
   "source": [
    "date = '20240912'\n",
    "scantimes = ldt.get_subscantimes(date, '1430.57')\n",
    "excludes = [[]] * len(scantimes)"
   ]
  },
  {
   "cell_type": "markdown",
   "id": "f1aec069-d696-43cd-8dca-44bc74ced2ed",
   "metadata": {},
   "source": [
    "# Define parameters"
   ]
  },
  {
   "cell_type": "code",
   "execution_count": 3,
   "id": "757d6918-8486-4603-a36a-1e4786a447ff",
   "metadata": {},
   "outputs": [],
   "source": [
    "eta = 0.069\n",
    "nbar_guess = 30\n",
    "fix_fit_scale = False"
   ]
  },
  {
   "cell_type": "markdown",
   "id": "308c0c33-b161-4571-9ec7-06a5f39ec175",
   "metadata": {},
   "source": [
    "# Define some convenience functions"
   ]
  },
  {
   "cell_type": "code",
   "execution_count": 4,
   "id": "1ba01a41-c625-4a7d-99b9-651d34a77645",
   "metadata": {},
   "outputs": [],
   "source": [
    "def fit_rabi(date, scantime, exclude=[]):\n",
    "    (x, y) = ldt.get_data(date, scantime, exclude=exclude)\n",
    "    \n",
    "    fitfunction = fit.rabi_flop_thermal()\n",
    "    fixed_params = {'delta_kHz': 0,\n",
    "                    'eta': eta,\n",
    "                    'sideband_order': 0,\n",
    "                    'turnon_delay_us': 0.0}\n",
    "    guess_params = {'Omega_kHz': guess_omega_rabi(x, y),\n",
    "                    'nbar': nbar_guess}\n",
    "    if fix_fit_scale:\n",
    "        fixed_params['scale'] = 1.0\n",
    "    else:\n",
    "        guess_params['scale'] = 0.9\n",
    "    \n",
    "    fitfunction.set_fixed_params(fixed_params)\n",
    "    fitfunction.set_guess_params(guess_params)\n",
    "    fitfunction.do_fit(x, y, use_qpn=True)\n",
    "    \n",
    "    nbar = fitfunction.get_fits()['nbar']\n",
    "    return nbar\n",
    "\n",
    "def guess_omega_rabi(x, y):\n",
    "    step = x[1] - x[0]\n",
    "    mean = np.mean(y)\n",
    "    for x0, y0 in zip(x,y):\n",
    "        if y0 > mean: break\n",
    "    t_2pi  = 4*(x0-step/2.0)\n",
    "    return 1e3 * 1/(t_2pi)\n",
    "\n",
    "def get_waittime(scantime):\n",
    "    scantime = scantime.replace('.', '_')\n",
    "    params = ldt.get_parameters(date, scantime)\n",
    "    return params['EmptySequence.empty_sequence_duration']['ms']"
   ]
  },
  {
   "cell_type": "markdown",
   "id": "1ba710c9-7a02-4be2-9fae-bed76e261ac0",
   "metadata": {},
   "source": [
    "# Fit the Rabi flops"
   ]
  },
  {
   "cell_type": "code",
   "execution_count": 5,
   "id": "ee939685-cfef-496a-93fa-3a39cec7bcc7",
   "metadata": {},
   "outputs": [],
   "source": [
    "fits = [fit_rabi(date, scantime, exclude) for (scantime, exclude) in zip(scantimes, excludes)]"
   ]
  },
  {
   "cell_type": "code",
   "execution_count": 6,
   "id": "b2c66347-9ab2-4668-a511-a77c73054008",
   "metadata": {},
   "outputs": [],
   "source": [
    "waittimes = [get_waittime(scantime) for scantime in scantimes]\n",
    "nbars = [fit[0] for fit in fits]\n",
    "dnbars = [fit[1] for fit in fits]"
   ]
  },
  {
   "cell_type": "markdown",
   "id": "6798568d-cb71-4f16-97a7-e0a797ff1c13",
   "metadata": {},
   "source": [
    "# Fit nbar vs wait time to a line"
   ]
  },
  {
   "cell_type": "code",
   "execution_count": 7,
   "id": "55346ff5-a3fd-4214-a72a-0de30a061e51",
   "metadata": {},
   "outputs": [
    {
     "data": {
      "text/plain": [
       "{'m': (0.22001843501103088, 0.05973319183768366),\n",
       " 'b': (22.587205519232732, 1.250553920633208)}"
      ]
     },
     "execution_count": 7,
     "metadata": {},
     "output_type": "execute_result"
    }
   ],
   "source": [
    "fitfunc = fit.line()\n",
    "fitfunc.set_fixed_params({})\n",
    "fitfunc.set_guess_params({'m': 0.4,\n",
    "                          'b': 23.0})\n",
    "heating_rate_fit = fitfunc.do_fit(waittimes, nbars, yerr=dnbars)\n",
    "heating_rate_fit"
   ]
  },
  {
   "cell_type": "markdown",
   "id": "0716844d-e437-4907-b477-dc8cc2069844",
   "metadata": {},
   "source": [
    "The heating rate is 220 ± 60 q/s."
   ]
  }
 ],
 "metadata": {
  "kernelspec": {
   "display_name": "Python 3 (ipykernel)",
   "language": "python",
   "name": "python3"
  },
  "language_info": {
   "codemirror_mode": {
    "name": "ipython",
    "version": 3
   },
   "file_extension": ".py",
   "mimetype": "text/x-python",
   "name": "python",
   "nbconvert_exporter": "python",
   "pygments_lexer": "ipython3",
   "version": "3.10.6"
  }
 },
 "nbformat": 4,
 "nbformat_minor": 5
}
